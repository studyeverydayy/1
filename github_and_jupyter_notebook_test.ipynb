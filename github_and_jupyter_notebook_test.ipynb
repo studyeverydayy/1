{
 "cells": [
  {
   "cell_type": "markdown",
   "metadata": {},
   "source": [
    "# Github and Jupyter Notebook Test\n",
    "\n",
    "Hello! If you've got this far, congratulations!\n",
    "\n",
    "You've got your Github set up and it looks like you're probably there with your Jupyter setup too. \n",
    "\n",
    "Let's test Jupyter to see that it's working. The cell below is a code cell. It can execute real Python code!. Click on it, and then press the Run button above. (or press cmd-Enter or ctrl-Enter)"
   ]
  },
  {
   "cell_type": "code",
   "execution_count": null,
   "metadata": {},
   "outputs": [],
   "source": [
    "print( \"Hello! 🍄 \"  * 5 )"
   ]
  },
  {
   "cell_type": "markdown",
   "metadata": {},
   "source": [
    "Got that working? Well done! Now change the amount of times the code prints Hello from 5 to 500.\n",
    "\n",
    "(Hint: just add a couple of zeros to the 5)\n",
    "\n",
    "**Save** the file. You can use your normal shortcut for save (cmd-s or ctrl-S) \n",
    "\n",
    "After you've done that, open up Github Desktop again. It should show your changes. Red means something has been deleted. Green means something has been added.  A red line followed by a green line usually means something on that line has changed.\n",
    "\n",
    "![](img/git-change.png)\n",
    "\n",
    "Add a message which says what change you've made (a **commit message**). Keep it short and descriptive. Start it with a capitalised verb in the imperative tense. Something like, \"Update number of times Hello is repeated\". Git lets you see and go back to different points in your code's history, so meaningful and tidy commit messages matter! You can also explain in more detail what you did in the Description box, though this is optional.\n",
    "\n",
    "![image.png](img/commit-msg.png)\n",
    "\n",
    "Once you've done that, hit 'Commit to master' (or it may say 'Commit to main').\n",
    "\n",
    "Well done, you've just made your first **commit**! You can now click on the History tab in Github Desktop to see all the commits in this repository, if you want to.\n",
    "\n",
    "Lets **push** your changes back to Github, so that your changes are saved. Still in Github Desktop, click Repository > Push. \n",
    "\n",
    "That's it! That's all you need to do. If you want to see your changes on Github, click Repository > View on Github, and look for your commit message next to the file that you changed and committed. It might look something like this.\n",
    "\n",
    "![image.png](img/github-updated-files.png)\n",
    "\n",
    "This only touches on what Git and Github can do, but it's enough for now. Well done!\n",
    "\n",
    "PS, if you do want to learn more about Github, have a go with their free [First Week on Github course](https://lab.github.com/githubtraining/first-week-on-github)."
   ]
  }
 ],
 "metadata": {
  "kernelspec": {
   "display_name": "Python 3 (ipykernel)",
   "language": "python",
   "name": "python3"
  },
  "language_info": {
   "codemirror_mode": {
    "name": "ipython",
    "version": 3
   },
   "file_extension": ".py",
   "mimetype": "text/x-python",
   "name": "python",
   "nbconvert_exporter": "python",
   "pygments_lexer": "ipython3",
   "version": "3.8.11"
  }
 },
 "nbformat": 4,
 "nbformat_minor": 4
}
